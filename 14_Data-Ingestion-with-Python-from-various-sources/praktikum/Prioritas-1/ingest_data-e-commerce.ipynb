{
 "cells": [
  {
   "cell_type": "code",
   "execution_count": null,
   "metadata": {},
   "outputs": [],
   "source": [
    "import pandas as pd\n",
    "import pymysql\n",
    "import requests\n",
    "\n",
    "# Membaca data produk dari file Excel\n",
    "products_df = pd.read_excel('products.xlsx')\n",
    "\n",
    "# Membaca data transaksi dari file CSV\n",
    "transactions_df = pd.read_csv('transactions.csv')\n",
    "\n",
    "# Membuat koneksi ke database MySQL\n",
    "connection = pymysql.connect(host='127.0.0.1',\n",
    "                             user='root',\n",
    "                             password='',\n",
    "                             database='db_e-commerce')\n",
    "# Membuat cursor\n",
    "cursor = connection.cursor()\n",
    "\n",
    "# Eksekusi SQL untuk mengambil data pelanggan\n",
    "sql = \"SELECT * FROM customers\"\n",
    "cursor.execute(sql)\n",
    "\n",
    "# Membaca hasil query ke dalam DataFrame\n",
    "customers_df = pd.DataFrame(cursor.fetchall(), columns=[desc[0] for desc in cursor.description])\n",
    "\n",
    "# Menutup koneksi dan cursor\n",
    "cursor.close()\n",
    "connection.close()\n",
    "\n",
    "# Mengambil data pengiriman dari API\n",
    "response = requests.get('https://fakestoreapi.com/products')\n",
    "delivery_data = response.json()\n",
    "\n",
    "# Mengubah data pengiriman ke dalam DataFrame\n",
    "delivery_df = pd.DataFrame(delivery_data)\n",
    "\n",
    "# Mengganti nama kolom pada setiap DataFrame sebelum penggabungan\n",
    "products_df = products_df.rename(columns={'ID': 'Product ID', 'Product Name': 'Product Name', 'Category': 'Product Category', 'Description': 'Product Description', 'Price': 'Product Price'})\n",
    "transactions_df = transactions_df.rename(columns={'ID': 'Transaction ID', 'User ID': 'User ID', 'Item Name': 'Item Name', 'Quantity': 'Quantity', 'Value (USD)': 'Value (USD)', 'Status': 'Status'})\n",
    "customers_df = customers_df.rename(columns={'id': 'Customer ID', 'name': 'Customer Name', 'email': 'Customer Email', 'address': 'Customer Address'})\n",
    "delivery_df = delivery_df.rename(columns={'id': 'Delivery ID', 'title': 'Delivery Title', 'price': 'Delivery Price', 'description': 'Delivery Description', 'category': 'Delivery Category', 'image': 'Delivery Image', 'rating': 'Delivery Rating'})\n",
    "\n",
    "# Menggabungkan DataFrame dengan nama kolom yang telah diubah\n",
    "merged_df = pd.concat([products_df, transactions_df, customers_df, delivery_df], axis=1)\n",
    "\n",
    "\n",
    "# Menyimpan DataFrame ke dalam file Parquet\n",
    "merged_df.to_parquet('output_file.parquet')\n",
    "\n",
    "# Baca file Parquet\n",
    "df = pd.read_parquet('output_file.parquet')\n",
    "\n",
    "# Tampilkan DataFrame\n",
    "print(df)"
   ]
  }
 ],
 "metadata": {
  "kernelspec": {
   "display_name": "Python 3",
   "language": "python",
   "name": "python3"
  },
  "language_info": {
   "codemirror_mode": {
    "name": "ipython",
    "version": 3
   },
   "file_extension": ".py",
   "mimetype": "text/x-python",
   "name": "python",
   "nbconvert_exporter": "python",
   "pygments_lexer": "ipython3",
   "version": "3.12.2"
  }
 },
 "nbformat": 4,
 "nbformat_minor": 2
}
