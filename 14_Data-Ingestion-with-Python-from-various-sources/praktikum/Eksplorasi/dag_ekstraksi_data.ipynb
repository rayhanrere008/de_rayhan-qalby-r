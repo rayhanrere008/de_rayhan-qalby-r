{
 "cells": [
  {
   "cell_type": "code",
   "execution_count": null,
   "metadata": {},
   "outputs": [],
   "source": [
    "# %pip install apache-airflow\n",
    "# %pip install pendulum\n",
    "# %pip install --upgrade pendulum"
   ]
  },
  {
   "cell_type": "code",
   "execution_count": null,
   "metadata": {},
   "outputs": [],
   "source": [
    "from airflow import DAG\n",
    "from airflow.operators.python_operator import PythonOperator\n",
    "from datetime import datetime, timedelta\n",
    "\n",
    "default_args = {\n",
    "    'owner': 'admin',\n",
    "    'depends_on_past': False,\n",
    "    'start_date': datetime(2024, 1, 1),\n",
    "    'email_on_failure': False,\n",
    "    'email_on_retry': False,\n",
    "    'retries': 1,\n",
    "    'retry_delay': timedelta(minutes=5),\n",
    "}\n",
    "\n",
    "dag = DAG(\n",
    "    'ekstraksi_data_dag',\n",
    "    default_args=default_args,\n",
    "    description='DAG untuk mengekstraksi data buku dari API',\n",
    "    schedule_interval='0 9 * * 1',  # Setiap Senin jam 09:00\n",
    "    catchup=False\n",
    ")\n",
    "\n",
    "def extract_data():\n",
    "    import requests\n",
    "    url = \"https://gist.githubusercontent.com/nadirbslmh/8922f71875948802321ef479a017f4c0/raw/1fbbc4b3d55f8ae717eb197d9aaf530ed1bc7ed2/sample.json\"\n",
    "    response = requests.get(url)\n",
    "    data = response.json()\n",
    "    relevant_books = []\n",
    "    for book in data['data']:\n",
    "        relevant_books.append({\n",
    "            'judul': book['title'],\n",
    "            'pengarang': book['author'],\n",
    "            'tahun_terbit': book['year'],\n",
    "            'genre': book['genre']\n",
    "        })\n",
    "\n",
    "    print(relevant_books)\n",
    "\n",
    "ekstraksi_data_task = PythonOperator(\n",
    "    task_id='ekstraksi_data',\n",
    "    python_callable=extract_data,\n",
    "    dag=dag,\n",
    ")\n",
    "\n",
    "dag\n"
   ]
  }
 ],
 "metadata": {
  "kernelspec": {
   "display_name": "Python 3",
   "language": "python",
   "name": "python3"
  },
  "language_info": {
   "codemirror_mode": {
    "name": "ipython",
    "version": 3
   },
   "file_extension": ".py",
   "mimetype": "text/x-python",
   "name": "python",
   "nbconvert_exporter": "python",
   "pygments_lexer": "ipython3",
   "version": "3.12.2"
  }
 },
 "nbformat": 4,
 "nbformat_minor": 2
}
