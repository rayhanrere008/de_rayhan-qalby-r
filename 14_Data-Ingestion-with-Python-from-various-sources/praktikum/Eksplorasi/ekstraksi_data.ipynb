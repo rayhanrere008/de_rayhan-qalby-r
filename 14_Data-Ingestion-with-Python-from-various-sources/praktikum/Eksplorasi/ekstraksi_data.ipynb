{
 "cells": [
  {
   "cell_type": "code",
   "execution_count": 1,
   "metadata": {},
   "outputs": [
    {
     "name": "stdout",
     "output_type": "stream",
     "text": [
      "Data buku telah disimpan ke dalam file CSV 'books_data.csv'.\n"
     ]
    }
   ],
   "source": [
    "import requests\n",
    "import pandas as pd\n",
    "\n",
    "url = \"https://gist.githubusercontent.com/nadirbslmh/8922f71875948802321ef479a017f4c0/raw/1fbbc4b3d55f8ae717eb197d9aaf530ed1bc7ed2/sample.json\"\n",
    "\n",
    "response = requests.get(url)\n",
    "\n",
    "# Periksa apakah permintaan berhasil\n",
    "if response.status_code == 200:\n",
    "    data = response.json()\n",
    "\n",
    "    # Periksa apakah 'data' ada dalam respons JSON\n",
    "    if 'data' in data:\n",
    "        # Ekstraksi data buku yang relevan\n",
    "        relevant_books = []\n",
    "        for book in data['data']:\n",
    "            relevant_books.append({\n",
    "                'judul': book['title'],\n",
    "                'pengarang': book['author'],\n",
    "                'tahun_terbit': book['year'],\n",
    "                'genre': book['genre']\n",
    "            })\n",
    "\n",
    "        # Simpan data ke dalam DataFrame\n",
    "        df = pd.DataFrame(relevant_books)\n",
    "\n",
    "        # Simpan DataFrame ke dalam file CSV\n",
    "        df.to_csv('books_data.csv', index=False)\n",
    "        print(\"Data buku telah disimpan ke dalam file CSV 'books_data.csv'.\")\n",
    "    else:\n",
    "        print(\"Kunci 'data' tidak ditemukan dalam respons JSON.\")\n",
    "else:\n",
    "    print(\"Gagal mengambil data. Kode status:\", response.status_code)"
   ]
  }
 ],
 "metadata": {
  "kernelspec": {
   "display_name": "Python 3",
   "language": "python",
   "name": "python3"
  },
  "language_info": {
   "codemirror_mode": {
    "name": "ipython",
    "version": 3
   },
   "file_extension": ".py",
   "mimetype": "text/x-python",
   "name": "python",
   "nbconvert_exporter": "python",
   "pygments_lexer": "ipython3",
   "version": "3.12.2"
  }
 },
 "nbformat": 4,
 "nbformat_minor": 2
}
