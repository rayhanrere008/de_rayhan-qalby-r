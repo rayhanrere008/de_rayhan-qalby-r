{
 "cells": [
  {
   "cell_type": "code",
   "execution_count": 35,
   "metadata": {},
   "outputs": [
    {
     "data": {
      "text/html": [
       "<div>\n",
       "<style scoped>\n",
       "    .dataframe tbody tr th:only-of-type {\n",
       "        vertical-align: middle;\n",
       "    }\n",
       "\n",
       "    .dataframe tbody tr th {\n",
       "        vertical-align: top;\n",
       "    }\n",
       "\n",
       "    .dataframe thead th {\n",
       "        text-align: right;\n",
       "    }\n",
       "</style>\n",
       "<table border=\"1\" class=\"dataframe\">\n",
       "  <thead>\n",
       "    <tr style=\"text-align: right;\">\n",
       "      <th></th>\n",
       "      <th>rating</th>\n",
       "      <th>content</th>\n",
       "      <th>date</th>\n",
       "      <th>username</th>\n",
       "    </tr>\n",
       "  </thead>\n",
       "  <tbody>\n",
       "    <tr>\n",
       "      <th>0</th>\n",
       "      <td>5</td>\n",
       "      <td>Suka, barang bagus!</td>\n",
       "      <td>Ditulis 20 Apr, 2021</td>\n",
       "      <td>A***i00</td>\n",
       "    </tr>\n",
       "    <tr>\n",
       "      <th>1</th>\n",
       "      <td>5</td>\n",
       "      <td>Barang bagus banget!</td>\n",
       "      <td>Ditulis 20 Okt, 2021</td>\n",
       "      <td>Supranoto00</td>\n",
       "    </tr>\n",
       "    <tr>\n",
       "      <th>2</th>\n",
       "      <td>5</td>\n",
       "      <td>Wah, Puas Banget!</td>\n",
       "      <td>Ditulis 06 Mei, 2022</td>\n",
       "      <td>A***a00</td>\n",
       "    </tr>\n",
       "    <tr>\n",
       "      <th>3</th>\n",
       "      <td>5</td>\n",
       "      <td>Wah, Puas Banget!</td>\n",
       "      <td>Ditulis 06 Mei, 2022</td>\n",
       "      <td>F***a00</td>\n",
       "    </tr>\n",
       "    <tr>\n",
       "      <th>4</th>\n",
       "      <td>5</td>\n",
       "      <td>Wah, Puas Banget!</td>\n",
       "      <td>Ditulis 15 Feb, 2023</td>\n",
       "      <td>H***a00</td>\n",
       "    </tr>\n",
       "  </tbody>\n",
       "</table>\n",
       "</div>"
      ],
      "text/plain": [
       "   rating               content                  date     username\n",
       "0       5   Suka, barang bagus!  Ditulis 20 Apr, 2021      A***i00\n",
       "1       5  Barang bagus banget!  Ditulis 20 Okt, 2021  Supranoto00\n",
       "2       5     Wah, Puas Banget!  Ditulis 06 Mei, 2022      A***a00\n",
       "3       5     Wah, Puas Banget!  Ditulis 06 Mei, 2022      F***a00\n",
       "4       5     Wah, Puas Banget!  Ditulis 15 Feb, 2023      H***a00"
      ]
     },
     "execution_count": 35,
     "metadata": {},
     "output_type": "execute_result"
    }
   ],
   "source": [
    "import requests\n",
    "from bs4 import BeautifulSoup\n",
    "import pandas as pd\n",
    "\n",
    "url = \"https://www.bukalapak.com/p/fashion-pria/kemeja/ltxt5u-jual-kemeja-batik-kemeja-kerja-kemeja-kantor-kemeja-formal-kemeja-seragam-batik-pekalongan-murah?from=homepage&source=fvt&panel=3&type=recommendation\"\n",
    "response = requests.get(url)\n",
    "\n",
    "soup = BeautifulSoup(response.content, 'html.parser')\n",
    "\n",
    "cards = soup.find_all('div', class_='c-reviews-item')\n",
    "\n",
    "data = []\n",
    "\n",
    "for card in cards:\n",
    "    rating_element = card.find('div', class_='c-rating__fg c-rating__fg--default')\n",
    "    rating = len(rating_element.find_all('span', class_='c-rating__unit c-icon c-icon--medium c-icon--star'))\n",
    "    content = card.find('h4', class_='c-reviews-item__title u-mrgn-top--1').text\n",
    "    date = card.find('p', class_='c-reviews-item__date u-fg--ash').text\n",
    "    username = card.find('div', class_='c-reviews-item__foot').text\n",
    "    data.append([rating, content, date, username ])\n",
    "\n",
    "df = pd.DataFrame(data, columns=['rating', 'content', 'date', 'username'])\n",
    "df"
   ]
  }
 ],
 "metadata": {
  "kernelspec": {
   "display_name": "Python 3",
   "language": "python",
   "name": "python3"
  },
  "language_info": {
   "codemirror_mode": {
    "name": "ipython",
    "version": 3
   },
   "file_extension": ".py",
   "mimetype": "text/x-python",
   "name": "python",
   "nbconvert_exporter": "python",
   "pygments_lexer": "ipython3",
   "version": "3.12.2"
  }
 },
 "nbformat": 4,
 "nbformat_minor": 2
}
