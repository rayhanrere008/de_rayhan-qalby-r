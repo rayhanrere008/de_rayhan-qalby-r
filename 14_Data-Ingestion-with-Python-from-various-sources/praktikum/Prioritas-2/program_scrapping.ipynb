{
 "cells": [
  {
   "cell_type": "code",
   "execution_count": 2,
   "metadata": {},
   "outputs": [],
   "source": [
    "import requests\n",
    "from bs4 import BeautifulSoup\n",
    "import pandas as pd\n",
    "\n",
    "url = \"https://www.bukalapak.com/p/fashion-pria/kemeja/ltxt5u-jual-kemeja-batik-kemeja-kerja-kemeja-kantor-kemeja-formal-kemeja-seragam-batik-pekalongan-murah?from=homepage&source=fvt&panel=3&type=recommendation\"\n",
    "response = requests.get(url)\n",
    "\n",
    "soup = BeautifulSoup(response.content, 'html.parser')\n",
    "\n",
    "cards = soup.find_all('div', class_='c-reviews-item')\n",
    "\n",
    "data = []\n",
    "\n",
    "for card in cards:\n",
    "    rating_element = card.find('div', class_='c-rating__fg c-rating__fg--default')\n",
    "    if rating_element:\n",
    "        rating = len(rating_element.find_all('span', class_='c-rating__unit c-icon c-icon--medium c-icon--star'))\n",
    "    else:\n",
    "        rating = None\n",
    "    content = card.find('h4', class_='c-reviews-item__title u-mrgn-top--1').text.strip()\n",
    "    date = card.find('p', class_='c-reviews-item__date u-fg--ash').text.strip()\n",
    "    username = card.find('div', class_='c-reviews-item__foot').text.strip()\n",
    "    data.append([rating, content, date, username ])\n",
    "\n",
    "df = pd.DataFrame(data, columns=['rating', 'content', 'date', 'username'])\n",
    "\n",
    "# Simpan DataFrame ke dalam file CSV\n",
    "df.to_csv('scraped_data.csv', index=False)\n"
   ]
  }
 ],
 "metadata": {
  "kernelspec": {
   "display_name": "Python 3",
   "language": "python",
   "name": "python3"
  },
  "language_info": {
   "codemirror_mode": {
    "name": "ipython",
    "version": 3
   },
   "file_extension": ".py",
   "mimetype": "text/x-python",
   "name": "python",
   "nbconvert_exporter": "python",
   "pygments_lexer": "ipython3",
   "version": "3.12.2"
  }
 },
 "nbformat": 4,
 "nbformat_minor": 2
}
