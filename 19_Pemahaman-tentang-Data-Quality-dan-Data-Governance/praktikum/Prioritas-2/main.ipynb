{
 "cells": [
  {
   "cell_type": "markdown",
   "metadata": {},
   "source": [
    "#### 1. Install Library Pandas"
   ]
  },
  {
   "cell_type": "code",
   "execution_count": 52,
   "metadata": {},
   "outputs": [],
   "source": [
    "# %pip install pandas"
   ]
  },
  {
   "cell_type": "markdown",
   "metadata": {},
   "source": [
    "#### 2. Import Library"
   ]
  },
  {
   "cell_type": "code",
   "execution_count": 53,
   "metadata": {},
   "outputs": [],
   "source": [
    "import pandas as pd\n",
    "import locale"
   ]
  },
  {
   "cell_type": "markdown",
   "metadata": {},
   "source": [
    "#### 3. Set locale ke Indonesia untuk menggunakan format mata uang Rp"
   ]
  },
  {
   "cell_type": "code",
   "execution_count": 54,
   "metadata": {},
   "outputs": [
    {
     "data": {
      "text/plain": [
       "'id_ID'"
      ]
     },
     "execution_count": 54,
     "metadata": {},
     "output_type": "execute_result"
    }
   ],
   "source": [
    "locale.setlocale(locale.LC_ALL, 'id_ID')"
   ]
  },
  {
   "cell_type": "markdown",
   "metadata": {},
   "source": [
    "#### 4. Read Dataset"
   ]
  },
  {
   "cell_type": "code",
   "execution_count": 55,
   "metadata": {},
   "outputs": [],
   "source": [
    "df = pd.read_csv(\"tx_data.csv\")"
   ]
  },
  {
   "cell_type": "markdown",
   "metadata": {},
   "source": [
    "#### 5.  Ubah format nomor telepon dengan awalan +62"
   ]
  },
  {
   "cell_type": "code",
   "execution_count": 56,
   "metadata": {},
   "outputs": [],
   "source": [
    "df['phone_number'] = df['phone_number'].apply(lambda x: '+62' + str(x))"
   ]
  },
  {
   "cell_type": "markdown",
   "metadata": {},
   "source": [
    "#### 6. Ubah format nilai transaksi menjadi \"Rp 12.000\""
   ]
  },
  {
   "cell_type": "code",
   "execution_count": 57,
   "metadata": {},
   "outputs": [],
   "source": [
    "df['transaction_amount'] = df['transaction_amount'].map(lambda x: 'Rp {:n}'.format(x))"
   ]
  },
  {
   "cell_type": "markdown",
   "metadata": {},
   "source": [
    "#### 7. Filter data berdasarkan status transaksi success"
   ]
  },
  {
   "cell_type": "code",
   "execution_count": 58,
   "metadata": {},
   "outputs": [],
   "source": [
    "df = df[df['transaction_status'] == 'success']"
   ]
  },
  {
   "cell_type": "markdown",
   "metadata": {},
   "source": [
    "#### 8. Melakukan reset index agar berurutan"
   ]
  },
  {
   "cell_type": "code",
   "execution_count": 59,
   "metadata": {},
   "outputs": [],
   "source": [
    "df = df.reset_index(drop=True)"
   ]
  },
  {
   "cell_type": "markdown",
   "metadata": {},
   "source": [
    "#### 9. Tampilkan 10 Baris Pertama"
   ]
  },
  {
   "cell_type": "code",
   "execution_count": 60,
   "metadata": {},
   "outputs": [
    {
     "data": {
      "text/html": [
       "<div>\n",
       "<style scoped>\n",
       "    .dataframe tbody tr th:only-of-type {\n",
       "        vertical-align: middle;\n",
       "    }\n",
       "\n",
       "    .dataframe tbody tr th {\n",
       "        vertical-align: top;\n",
       "    }\n",
       "\n",
       "    .dataframe thead th {\n",
       "        text-align: right;\n",
       "    }\n",
       "</style>\n",
       "<table border=\"1\" class=\"dataframe\">\n",
       "  <thead>\n",
       "    <tr style=\"text-align: right;\">\n",
       "      <th></th>\n",
       "      <th>transaction_id</th>\n",
       "      <th>customer_name</th>\n",
       "      <th>transaction_amount</th>\n",
       "      <th>phone_number</th>\n",
       "      <th>transaction_type</th>\n",
       "      <th>transaction_status</th>\n",
       "    </tr>\n",
       "  </thead>\n",
       "  <tbody>\n",
       "    <tr>\n",
       "      <th>0</th>\n",
       "      <td>1</td>\n",
       "      <td>John Thor</td>\n",
       "      <td>Rp 54.000</td>\n",
       "      <td>+6281234564030</td>\n",
       "      <td>paket data</td>\n",
       "      <td>success</td>\n",
       "    </tr>\n",
       "    <tr>\n",
       "      <th>1</th>\n",
       "      <td>2</td>\n",
       "      <td>Jane Smith</td>\n",
       "      <td>Rp 25.000</td>\n",
       "      <td>+6281234567891</td>\n",
       "      <td>pulsa</td>\n",
       "      <td>success</td>\n",
       "    </tr>\n",
       "    <tr>\n",
       "      <th>2</th>\n",
       "      <td>4</td>\n",
       "      <td>Emily Davis</td>\n",
       "      <td>Rp 32.000</td>\n",
       "      <td>+6281234567893</td>\n",
       "      <td>paket data</td>\n",
       "      <td>success</td>\n",
       "    </tr>\n",
       "    <tr>\n",
       "      <th>3</th>\n",
       "      <td>6</td>\n",
       "      <td>Susan Anderson</td>\n",
       "      <td>Rp 61.000</td>\n",
       "      <td>+6281234567895</td>\n",
       "      <td>voucher game</td>\n",
       "      <td>success</td>\n",
       "    </tr>\n",
       "    <tr>\n",
       "      <th>4</th>\n",
       "      <td>7</td>\n",
       "      <td>Robert Clark</td>\n",
       "      <td>Rp 29.000</td>\n",
       "      <td>+6281234567896</td>\n",
       "      <td>pulsa</td>\n",
       "      <td>success</td>\n",
       "    </tr>\n",
       "    <tr>\n",
       "      <th>5</th>\n",
       "      <td>10</td>\n",
       "      <td>Elizabeth White</td>\n",
       "      <td>Rp 54.000</td>\n",
       "      <td>+6281234567899</td>\n",
       "      <td>pulsa</td>\n",
       "      <td>success</td>\n",
       "    </tr>\n",
       "    <tr>\n",
       "      <th>6</th>\n",
       "      <td>11</td>\n",
       "      <td>James Taylor</td>\n",
       "      <td>Rp 25.000</td>\n",
       "      <td>+6281234567810</td>\n",
       "      <td>voucher game</td>\n",
       "      <td>success</td>\n",
       "    </tr>\n",
       "    <tr>\n",
       "      <th>7</th>\n",
       "      <td>14</td>\n",
       "      <td>Linda Martinez</td>\n",
       "      <td>Rp 45.000</td>\n",
       "      <td>+6281234567813</td>\n",
       "      <td>paket data</td>\n",
       "      <td>success</td>\n",
       "    </tr>\n",
       "    <tr>\n",
       "      <th>8</th>\n",
       "      <td>15</td>\n",
       "      <td>Thomas Harris</td>\n",
       "      <td>Rp 61.000</td>\n",
       "      <td>+6281234567814</td>\n",
       "      <td>pulsa</td>\n",
       "      <td>success</td>\n",
       "    </tr>\n",
       "    <tr>\n",
       "      <th>9</th>\n",
       "      <td>16</td>\n",
       "      <td>Barbara Hall</td>\n",
       "      <td>Rp 29.000</td>\n",
       "      <td>+6281234567815</td>\n",
       "      <td>voucher game</td>\n",
       "      <td>success</td>\n",
       "    </tr>\n",
       "  </tbody>\n",
       "</table>\n",
       "</div>"
      ],
      "text/plain": [
       "   transaction_id    customer_name transaction_amount    phone_number  \\\n",
       "0               1        John Thor          Rp 54.000  +6281234564030   \n",
       "1               2       Jane Smith          Rp 25.000  +6281234567891   \n",
       "2               4      Emily Davis          Rp 32.000  +6281234567893   \n",
       "3               6   Susan Anderson          Rp 61.000  +6281234567895   \n",
       "4               7     Robert Clark          Rp 29.000  +6281234567896   \n",
       "5              10  Elizabeth White          Rp 54.000  +6281234567899   \n",
       "6              11     James Taylor          Rp 25.000  +6281234567810   \n",
       "7              14   Linda Martinez          Rp 45.000  +6281234567813   \n",
       "8              15    Thomas Harris          Rp 61.000  +6281234567814   \n",
       "9              16     Barbara Hall          Rp 29.000  +6281234567815   \n",
       "\n",
       "  transaction_type transaction_status  \n",
       "0       paket data            success  \n",
       "1            pulsa            success  \n",
       "2       paket data            success  \n",
       "3     voucher game            success  \n",
       "4            pulsa            success  \n",
       "5            pulsa            success  \n",
       "6     voucher game            success  \n",
       "7       paket data            success  \n",
       "8            pulsa            success  \n",
       "9     voucher game            success  "
      ]
     },
     "execution_count": 60,
     "metadata": {},
     "output_type": "execute_result"
    }
   ],
   "source": [
    "df.head(10)"
   ]
  },
  {
   "cell_type": "markdown",
   "metadata": {},
   "source": [
    "#### 10. Tampilkan 10 Baris Terakhir"
   ]
  },
  {
   "cell_type": "code",
   "execution_count": 61,
   "metadata": {},
   "outputs": [
    {
     "data": {
      "text/html": [
       "<div>\n",
       "<style scoped>\n",
       "    .dataframe tbody tr th:only-of-type {\n",
       "        vertical-align: middle;\n",
       "    }\n",
       "\n",
       "    .dataframe tbody tr th {\n",
       "        vertical-align: top;\n",
       "    }\n",
       "\n",
       "    .dataframe thead th {\n",
       "        text-align: right;\n",
       "    }\n",
       "</style>\n",
       "<table border=\"1\" class=\"dataframe\">\n",
       "  <thead>\n",
       "    <tr style=\"text-align: right;\">\n",
       "      <th></th>\n",
       "      <th>transaction_id</th>\n",
       "      <th>customer_name</th>\n",
       "      <th>transaction_amount</th>\n",
       "      <th>phone_number</th>\n",
       "      <th>transaction_type</th>\n",
       "      <th>transaction_status</th>\n",
       "    </tr>\n",
       "  </thead>\n",
       "  <tbody>\n",
       "    <tr>\n",
       "      <th>60</th>\n",
       "      <td>103</td>\n",
       "      <td>Charles Jackson</td>\n",
       "      <td>Rp 32.000</td>\n",
       "      <td>+6281234567812</td>\n",
       "      <td>paket data</td>\n",
       "      <td>success</td>\n",
       "    </tr>\n",
       "    <tr>\n",
       "      <th>61</th>\n",
       "      <td>105</td>\n",
       "      <td>Thomas Rodriguez</td>\n",
       "      <td>Rp 61.000</td>\n",
       "      <td>+6281234567814</td>\n",
       "      <td>voucher game</td>\n",
       "      <td>success</td>\n",
       "    </tr>\n",
       "    <tr>\n",
       "      <th>62</th>\n",
       "      <td>109</td>\n",
       "      <td>Michael Martin</td>\n",
       "      <td>Rp 54.000</td>\n",
       "      <td>+6281234567818</td>\n",
       "      <td>paket data</td>\n",
       "      <td>success</td>\n",
       "    </tr>\n",
       "    <tr>\n",
       "      <th>63</th>\n",
       "      <td>110</td>\n",
       "      <td>Patricia Harris</td>\n",
       "      <td>Rp 25.000</td>\n",
       "      <td>+6281234567819</td>\n",
       "      <td>paket data</td>\n",
       "      <td>success</td>\n",
       "    </tr>\n",
       "    <tr>\n",
       "      <th>64</th>\n",
       "      <td>111</td>\n",
       "      <td>William Martinez</td>\n",
       "      <td>Rp 75.000</td>\n",
       "      <td>+6281234567820</td>\n",
       "      <td>voucher game</td>\n",
       "      <td>success</td>\n",
       "    </tr>\n",
       "    <tr>\n",
       "      <th>65</th>\n",
       "      <td>114</td>\n",
       "      <td>Sharon Anderson</td>\n",
       "      <td>Rp 61.000</td>\n",
       "      <td>+6281234567823</td>\n",
       "      <td>pulsa</td>\n",
       "      <td>success</td>\n",
       "    </tr>\n",
       "    <tr>\n",
       "      <th>66</th>\n",
       "      <td>115</td>\n",
       "      <td>David Davis</td>\n",
       "      <td>Rp 29.000</td>\n",
       "      <td>+6281234567824</td>\n",
       "      <td>ewallet</td>\n",
       "      <td>success</td>\n",
       "    </tr>\n",
       "    <tr>\n",
       "      <th>67</th>\n",
       "      <td>116</td>\n",
       "      <td>Mary Hall</td>\n",
       "      <td>Rp 48.000</td>\n",
       "      <td>+6281234567825</td>\n",
       "      <td>paket data</td>\n",
       "      <td>success</td>\n",
       "    </tr>\n",
       "    <tr>\n",
       "      <th>68</th>\n",
       "      <td>118</td>\n",
       "      <td>Elizabeth Turner</td>\n",
       "      <td>Rp 54.000</td>\n",
       "      <td>+6281234567827</td>\n",
       "      <td>pulsa</td>\n",
       "      <td>success</td>\n",
       "    </tr>\n",
       "    <tr>\n",
       "      <th>69</th>\n",
       "      <td>119</td>\n",
       "      <td>Robert Smith</td>\n",
       "      <td>Rp 25.000</td>\n",
       "      <td>+6281234567828</td>\n",
       "      <td>voucher game</td>\n",
       "      <td>success</td>\n",
       "    </tr>\n",
       "  </tbody>\n",
       "</table>\n",
       "</div>"
      ],
      "text/plain": [
       "    transaction_id     customer_name transaction_amount    phone_number  \\\n",
       "60             103   Charles Jackson          Rp 32.000  +6281234567812   \n",
       "61             105  Thomas Rodriguez          Rp 61.000  +6281234567814   \n",
       "62             109    Michael Martin          Rp 54.000  +6281234567818   \n",
       "63             110   Patricia Harris          Rp 25.000  +6281234567819   \n",
       "64             111  William Martinez          Rp 75.000  +6281234567820   \n",
       "65             114   Sharon Anderson          Rp 61.000  +6281234567823   \n",
       "66             115       David Davis          Rp 29.000  +6281234567824   \n",
       "67             116         Mary Hall          Rp 48.000  +6281234567825   \n",
       "68             118  Elizabeth Turner          Rp 54.000  +6281234567827   \n",
       "69             119      Robert Smith          Rp 25.000  +6281234567828   \n",
       "\n",
       "   transaction_type transaction_status  \n",
       "60       paket data            success  \n",
       "61     voucher game            success  \n",
       "62       paket data            success  \n",
       "63       paket data            success  \n",
       "64     voucher game            success  \n",
       "65            pulsa            success  \n",
       "66          ewallet            success  \n",
       "67       paket data            success  \n",
       "68            pulsa            success  \n",
       "69     voucher game            success  "
      ]
     },
     "execution_count": 61,
     "metadata": {},
     "output_type": "execute_result"
    }
   ],
   "source": [
    "df.tail(10)"
   ]
  },
  {
   "cell_type": "markdown",
   "metadata": {},
   "source": [
    "#### 11. Simpan hasil data cleaning ke dalam file CSV"
   ]
  },
  {
   "cell_type": "code",
   "execution_count": 62,
   "metadata": {},
   "outputs": [],
   "source": [
    "df.to_csv(\"cleaned_data.csv\", index=False)"
   ]
  }
 ],
 "metadata": {
  "kernelspec": {
   "display_name": "Python 3",
   "language": "python",
   "name": "python3"
  },
  "language_info": {
   "codemirror_mode": {
    "name": "ipython",
    "version": 3
   },
   "file_extension": ".py",
   "mimetype": "text/x-python",
   "name": "python",
   "nbconvert_exporter": "python",
   "pygments_lexer": "ipython3",
   "version": "3.11.4"
  }
 },
 "nbformat": 4,
 "nbformat_minor": 2
}
