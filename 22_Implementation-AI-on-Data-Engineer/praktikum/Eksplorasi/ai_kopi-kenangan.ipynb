{
 "cells": [
  {
   "cell_type": "markdown",
   "metadata": {},
   "source": [
    "#### 1. Import Library"
   ]
  },
  {
   "cell_type": "code",
   "execution_count": 1,
   "metadata": {},
   "outputs": [],
   "source": [
    "import os\n",
    "import pandas as pd\n",
    "from dotenv import load_dotenv\n",
    "from openai import OpenAI"
   ]
  },
  {
   "cell_type": "markdown",
   "metadata": {},
   "source": [
    "#### 2. Integrasikan dengan OpenAI"
   ]
  },
  {
   "cell_type": "code",
   "execution_count": 2,
   "metadata": {},
   "outputs": [],
   "source": [
    "# Load environment variables from .env file\n",
    "load_dotenv()\n",
    "\n",
    "# Get NAGA AI API key from environment variable\n",
    "my_api = os.getenv(\"NAGA_API_KEY\")\n",
    "\n",
    "# Initialize OpenAI API\n",
    "client = OpenAI(api_key=my_api,\n",
    "                base_url='https://api.naga.ac/v1'\n",
    "                )"
   ]
  },
  {
   "cell_type": "markdown",
   "metadata": {},
   "source": [
    "#### 3. Load Dataset"
   ]
  },
  {
   "cell_type": "code",
   "execution_count": 3,
   "metadata": {},
   "outputs": [],
   "source": [
    "sales_data = pd.read_csv(\"data_penjualan_kopi-kenangan.csv\")"
   ]
  },
  {
   "cell_type": "markdown",
   "metadata": {},
   "source": [
    "#### 4. Function"
   ]
  },
  {
   "cell_type": "code",
   "execution_count": 4,
   "metadata": {},
   "outputs": [],
   "source": [
    "def generate(prompt, model=\"gpt-3.5-turbo\"):\n",
    "    response = client.chat.completions.create(\n",
    "        model=model,\n",
    "                messages=[\n",
    "            {\n",
    "                \"role\": \"user\",\n",
    "                \"content\": prompt,\n",
    "            },\n",
    "        ],\n",
    "        temperature=0.5,\n",
    "        max_tokens=1000\n",
    "    )\n",
    "\n",
    "    return response.choices[0].message.content"
   ]
  },
  {
   "cell_type": "markdown",
   "metadata": {},
   "source": [
    "#### 5. Prompt 1 Analisis Data"
   ]
  },
  {
   "cell_type": "code",
   "execution_count": 5,
   "metadata": {},
   "outputs": [
    {
     "name": "stdout",
     "output_type": "stream",
     "text": [
      "Hasil Analisis Data:\n",
      "Untuk melakukan analisis data penjualan kopi kenangan tersebut, kita dapat melihat beberapa hal berikut:\n",
      "\n",
      "1. Penjualan Tertinggi:\n",
      "   - Tanggal penjualan dengan total penjualan tertinggi adalah 2024-01-01 dengan total penjualan sebesar 1750000 (Americano + Latte).\n",
      "   - Produk dengan penjualan tertinggi adalah Americano dengan total penjualan sebesar 3950000.\n",
      "\n",
      "2. Penjualan Terendah:\n",
      "   - Tanggal penjualan dengan total penjualan terendah adalah 2024-01-06 dengan total penjualan sebesar 1194000 (Macchiato + Mocha).\n",
      "   - Produk dengan penjualan terendah adalah Mocha dengan total penjualan sebesar 982000.\n",
      "\n",
      "3. Rata-rata Penjualan:\n",
      "   - Rata-rata penjualan per hari selama periode tersebut adalah sebesar 727600.\n",
      "   - Rata-rata penjualan per produk selama periode tersebut adalah sebesar 727600.\n",
      "\n",
      "4. Trend Penjualan:\n",
      "   - Dari data penjualan, terlihat bahwa penjualan cenderung naik pada tanggal-tanggal tertentu dan turun pada tanggal-tanggal lainnya.\n",
      "   - Ada pola penjualan tertentu untuk setiap produk, misalnya Americano cenderung memiliki penjualan yang stabil, sementara Mocha memiliki fluktuasi penjualan yang lebih besar.\n",
      "\n",
      "Dengan melakukan analisis data tersebut, kita dapat memahami pola penjualan kopi kenangan tersebut dan melakukan strategi penjualan yang lebih baik di masa mendatang.\n"
     ]
    }
   ],
   "source": [
    "prompt_1 = \"\"\"\n",
    "Lakukan analisis data dari data penjualan kopi kenangan tersebut\n",
    "\"\"\"\n",
    "response_1 = generate(prompt_1 + sales_data.to_csv(index=False), model=\"gpt-3.5-turbo\")\n",
    "\n",
    "print(\"Hasil Analisis Data:\")\n",
    "print(response_1)"
   ]
  },
  {
   "cell_type": "markdown",
   "metadata": {},
   "source": [
    "#### 6. Prompt 2 Rekomendasi yang dapat membantu dalam pengambilan keputusan bisnis."
   ]
  },
  {
   "cell_type": "code",
   "execution_count": 6,
   "metadata": {},
   "outputs": [
    {
     "name": "stdout",
     "output_type": "stream",
     "text": [
      "Hasil Rekomendasi:\n",
      "Berdasarkan data penjualan kopi kenangan tersebut, berikut adalah beberapa rekomendasi yang dapat membantu dalam pengambilan keputusan bisnis:\n",
      "\n",
      "1. Analisis Penjualan Produk: Perhatikan produk mana yang paling laris dan menghasilkan penjualan tertinggi. Dari data tersebut, dapat dilihat bahwa Americano dan Latte adalah produk yang paling laris. Fokuskan upaya pemasaran dan promosi pada produk-produk tersebut untuk meningkatkan penjualan.\n",
      "\n",
      "2. Analisis Harga Satuan: Evaluasi harga satuan dari masing-masing produk untuk memastikan bahwa harga yang ditetapkan masih kompetitif namun tetap menguntungkan. Jika perlu, pertimbangkan untuk menyesuaikan harga agar lebih menarik bagi pelanggan.\n",
      "\n",
      "3. Analisis Tren Penjualan: Perhatikan tren penjualan dari waktu ke waktu untuk mengidentifikasi pola penjualan yang mungkin terjadi. Misalnya, apakah ada peningkatan penjualan pada hari-hari tertentu atau pada produk tertentu. Hal ini dapat membantu dalam perencanaan persediaan dan promosi di masa mendatang.\n",
      "\n",
      "4. Diversifikasi Produk: Jika memungkinkan, pertimbangkan untuk menambahkan variasi produk baru atau menawarkan paket promo yang menarik untuk menarik minat pelanggan dan meningkatkan penjualan.\n",
      "\n",
      "5. Peningkatan Layanan Pelanggan: Pastikan layanan pelanggan yang baik dan responsif untuk memastikan kepuasan pelanggan. Pelanggan yang puas cenderung kembali dan merekomendasikan produk kepada orang lain.\n",
      "\n",
      "Dengan menerapkan rekomendasi di atas, diharapkan dapat membantu dalam meningkatkan kinerja bisnis kopi kenangan dan mencapai tujuan penjualan yang diinginkan.\n"
     ]
    }
   ],
   "source": [
    "prompt_2 = \"\"\"\n",
    "Dari hasil analisis data penjualan kopi kenangan tersebut. Tolong berikan rekomendasi yang dapat membantu dalam pengambilan keputusan bisnis.\n",
    "\"\"\"\n",
    "\n",
    "response_2 = generate(prompt_2 + sales_data.to_csv(index=False), model=\"gpt-3.5-turbo\")\n",
    "\n",
    "print(\"Hasil Rekomendasi:\")\n",
    "print(response_2)"
   ]
  }
 ],
 "metadata": {
  "kernelspec": {
   "display_name": "Python 3",
   "language": "python",
   "name": "python3"
  },
  "language_info": {
   "codemirror_mode": {
    "name": "ipython",
    "version": 3
   },
   "file_extension": ".py",
   "mimetype": "text/x-python",
   "name": "python",
   "nbconvert_exporter": "python",
   "pygments_lexer": "ipython3",
   "version": "3.11.4"
  }
 },
 "nbformat": 4,
 "nbformat_minor": 2
}
