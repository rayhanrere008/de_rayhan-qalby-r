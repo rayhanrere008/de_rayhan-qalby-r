{
 "cells": [
  {
   "cell_type": "markdown",
   "metadata": {},
   "source": [
    "#### 1. Import Library"
   ]
  },
  {
   "cell_type": "code",
   "execution_count": 1,
   "metadata": {},
   "outputs": [],
   "source": [
    "import os\n",
    "from dotenv import load_dotenv\n",
    "from openai import OpenAI"
   ]
  },
  {
   "cell_type": "markdown",
   "metadata": {},
   "source": [
    "#### 2. Integrasikan dengan OpenAI"
   ]
  },
  {
   "cell_type": "code",
   "execution_count": 2,
   "metadata": {},
   "outputs": [],
   "source": [
    "# Load environment variables from .env file\n",
    "load_dotenv()\n",
    "\n",
    "# Get NAGA AI API key from environment variable\n",
    "my_api = os.getenv(\"NAGA_API_KEY\")\n",
    "\n",
    "# Initialize OpenAI API\n",
    "client = OpenAI(api_key=my_api,\n",
    "                base_url='https://api.naga.ac/v1'\n",
    "                )"
   ]
  },
  {
   "cell_type": "markdown",
   "metadata": {},
   "source": [
    "#### 3. Function"
   ]
  },
  {
   "cell_type": "code",
   "execution_count": 3,
   "metadata": {},
   "outputs": [],
   "source": [
    "def generate(prompt, model=\"gpt-3.5-turbo\"):\n",
    "    response = client.chat.completions.create(\n",
    "        model=model,\n",
    "                messages=[\n",
    "            {\n",
    "                \"role\": \"user\",\n",
    "                \"content\": prompt,\n",
    "            },\n",
    "        ],\n",
    "        temperature=0.5,\n",
    "        max_tokens=1000\n",
    "    )\n",
    "\n",
    "    return response.choices[0].message.content"
   ]
  },
  {
   "cell_type": "markdown",
   "metadata": {},
   "source": [
    "#### 4. Prompting dan Hasil response"
   ]
  },
  {
   "cell_type": "code",
   "execution_count": 17,
   "metadata": {},
   "outputs": [
    {
     "name": "stdout",
     "output_type": "stream",
     "text": [
      "Response 1: SELECT MONTH(Tanggal_Transaksi) AS Bulan, Kategori_Produk, SUM(Jumlah_Penjualan * Harga) AS Total_Penjualan\n",
      "FROM nama_tabel\n",
      "GROUP BY MONTH(Tanggal_Transaksi), Kategori_Produk;\n",
      "\n",
      "Response 2: SELECT Tanggal_Transaksi, Jumlah_Penjualan\n",
      "FROM nama_tabel\n",
      "ORDER BY Jumlah_Penjualan DESC\n",
      "LIMIT 1;\n",
      "\n",
      "Response 3: Tentu, berikut adalah contoh SQL query untuk menghitung total pendapatan per bulan dari tabel yang memiliki kolom Tanggal_Transaksi, Jumlah_Penjualan, Harga, dan Kategori_Produk:\n",
      "\n",
      "```sql\n",
      "SELECT \n",
      "    YEAR(Tanggal_Transaksi) AS Tahun,\n",
      "    MONTH(Tanggal_Transaksi) AS Bulan,\n",
      "    SUM(Jumlah_Penjualan * Harga) AS Total_Pendapatan\n",
      "FROM \n",
      "    nama_tabel\n",
      "GROUP BY \n",
      "    YEAR(Tanggal_Transaksi), MONTH(Tanggal_Transaksi);\n",
      "```\n",
      "\n",
      "Pastikan untuk mengganti `nama_tabel` dengan nama tabel yang sesuai dengan struktur data Anda. Query ini akan mengelompokkan total pendapatan berdasarkan tahun dan bulan dari tanggal transaksi, dan kemudian menghitung jumlah penjualan dikalikan dengan harga untuk setiap baris data, lalu menjumlahkannya untuk mendapatkan total pendapatan per bulan.\n",
      "\n"
     ]
    }
   ],
   "source": [
    "# Daftar prompt dan respons yang sesuai\n",
    "prompt = [\n",
    "    \"\"\"\n",
    "    \"Buatkan SQL query untuk menghitung total penjualan per kategori produk setiap bulan dari tabel yang terdiri dari kolom Tanggal_Transaksi, Jumlah_Penjualan, Harga, Kategori_Produk.\"\n",
    "    \"\"\",\n",
    "    \"\"\"\n",
    "    \"Buatkan SQL query untuk menampilkan tanggal transaksi dengan jumlah penjualan tertinggi dari tabel yang terdiri dari kolom Tanggal_Transaksi, Jumlah_Penjualan, Harga, Kategori_Produk.\"\n",
    "    \"\"\",\n",
    "    \"\"\"\n",
    "    \"Buatkan SQL query untuk menghitung total pendapatan per bulan dari tabel yang terdiri dari kolom Tanggal_Transaksi, Jumlah_Penjualan, Harga, Kategori_Produk.\"\n",
    "    \"\"\"\n",
    "]\n",
    "\n",
    "# Menghasilkan respons dari OpenAI API untuk setiap prompt\n",
    "for i, prompt in enumerate(prompt, 1):\n",
    "    response = generate(prompt)\n",
    "    print(f\"Response {i}: {response}\\n\")"
   ]
  }
 ],
 "metadata": {
  "kernelspec": {
   "display_name": "Python 3",
   "language": "python",
   "name": "python3"
  },
  "language_info": {
   "codemirror_mode": {
    "name": "ipython",
    "version": 3
   },
   "file_extension": ".py",
   "mimetype": "text/x-python",
   "name": "python",
   "nbconvert_exporter": "python",
   "pygments_lexer": "ipython3",
   "version": "3.11.4"
  }
 },
 "nbformat": 4,
 "nbformat_minor": 2
}
