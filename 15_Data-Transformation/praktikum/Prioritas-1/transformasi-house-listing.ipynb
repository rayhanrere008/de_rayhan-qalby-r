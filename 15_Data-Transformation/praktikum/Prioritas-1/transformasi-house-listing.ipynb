{
 "cells": [
  {
   "cell_type": "markdown",
   "metadata": {},
   "source": [
    "### 1. Import Library"
   ]
  },
  {
   "cell_type": "code",
   "execution_count": 141,
   "metadata": {},
   "outputs": [],
   "source": [
    "import pandas as pd\n",
    "from sklearn.preprocessing import MinMaxScaler\n",
    "import re\n",
    "\n",
    "# Mengatur agar semua kolom ditampilkan\n",
    "pd.set_option('display.max_columns', 100)\n",
    "\n",
    "# Mengatur agar semua baris ditampilkan\n",
    "pd.set_option('display.max_rows', 100)\n",
    "\n",
    "# Mengatur lebar kolom maksimum agar teks tidak terpotong\n",
    "pd.set_option('display.max_colwidth', 100)\n",
    "\n",
    "# Mengatur lebar tampilan untuk menghindari pembungkusan baris\n",
    "pd.set_option('display.width', 100)"
   ]
  },
  {
   "cell_type": "markdown",
   "metadata": {},
   "source": [
    "### 2. Function"
   ]
  },
  {
   "cell_type": "code",
   "execution_count": 142,
   "metadata": {},
   "outputs": [],
   "source": [
    "# Fungsi untuk membersihkan string dan mengkonversinya menjadi float\n",
    "def clean_and_convert(value):\n",
    "    # Cek apakah nilai adalah string, jika tidak, langsung kembalikan\n",
    "    if not isinstance(value, str):\n",
    "        return value\n",
    "    # Hapus karakter mata uang dan unit\n",
    "    cleaned_value = re.sub(r'[^\\d.]', '', value)\n",
    "    # Jika hasil pembersihan adalah string kosong, kembalikan NaN\n",
    "    if cleaned_value == '':\n",
    "        return float('nan')\n",
    "    # Konversi ke float\n",
    "    return float(cleaned_value)"
   ]
  },
  {
   "cell_type": "markdown",
   "metadata": {},
   "source": [
    "### 3. Load Data"
   ]
  },
  {
   "cell_type": "code",
   "execution_count": 143,
   "metadata": {},
   "outputs": [],
   "source": [
    "# Muat data\n",
    "df = pd.read_csv('house_listings.csv')"
   ]
  },
  {
   "cell_type": "markdown",
   "metadata": {},
   "source": [
    "### 3. Normalisasi"
   ]
  },
  {
   "cell_type": "markdown",
   "metadata": {},
   "source": [
    "#### 3.1 Bersihkan dan Konversi Kolom"
   ]
  },
  {
   "cell_type": "code",
   "execution_count": 144,
   "metadata": {},
   "outputs": [],
   "source": [
    "# Bersihkan dan konversi kolom 'Price' dan 'Price_1m2'\n",
    "df['price'] = df['price'].apply(lambda x: clean_and_convert(str(x)))\n",
    "df['price_1m2'] = df['price_1m2'].apply(lambda x: clean_and_convert(str(x)))"
   ]
  },
  {
   "cell_type": "code",
   "execution_count": 145,
   "metadata": {},
   "outputs": [],
   "source": [
    "# Ganti NaN dengan nilai yang diinginkan, misalnya 0 atau nilai rata-rata\n",
    "df.fillna(0, inplace=True)"
   ]
  },
  {
   "cell_type": "markdown",
   "metadata": {},
   "source": [
    "#### 3.2 Lakukan Normalisasi"
   ]
  },
  {
   "cell_type": "code",
   "execution_count": 146,
   "metadata": {},
   "outputs": [
    {
     "name": "stdout",
     "output_type": "stream",
     "text": [
      "['price', 'price_1m2']\n"
     ]
    }
   ],
   "source": [
    "# Pilih kolom untuk normalisasi\n",
    "features_to_normalize = ['price', 'price_1m2']\n",
    "\n",
    "# Lakukan normalisasi\n",
    "scaler = MinMaxScaler()\n",
    "df[features_to_normalize] = scaler.fit_transform(df[features_to_normalize])\n",
    "# Tampilkan data\n",
    "print(features_to_normalize)"
   ]
  },
  {
   "cell_type": "markdown",
   "metadata": {},
   "source": [
    "### 4. Enconding"
   ]
  },
  {
   "cell_type": "code",
   "execution_count": 147,
   "metadata": {},
   "outputs": [],
   "source": [
    "# Lakukan one-hot encoding\n",
    "df = pd.get_dummies(df, columns=['category', 'title_deed', 'repair', 'mortgage'])"
   ]
  },
  {
   "cell_type": "markdown",
   "metadata": {},
   "source": [
    "### 5. Agregasi"
   ]
  },
  {
   "cell_type": "code",
   "execution_count": 148,
   "metadata": {},
   "outputs": [
    {
     "name": "stdout",
     "output_type": "stream",
     "text": [
      "    room_number building_type  mean_price  median_price  modus_price\n",
      "0           0.0       Unknown    0.000000      0.000000     0.000000\n",
      "1           1.0  Köhnə tikili    0.017911      0.017255     0.018627\n",
      "2           1.0   Yeni tikili    0.023961      0.023529     0.025490\n",
      "3           2.0  Köhnə tikili    0.023535      0.022549     0.023529\n",
      "4           2.0   Yeni tikili    0.032188      0.030392     0.028431\n",
      "5           3.0  Köhnə tikili    0.032684      0.030098     0.034314\n",
      "6           3.0   Yeni tikili    0.050076      0.048039     0.049020\n",
      "7           4.0  Köhnə tikili    0.041505      0.035294     0.032353\n",
      "8           4.0   Yeni tikili    0.079519      0.072549     0.068627\n",
      "9           5.0  Köhnə tikili    0.054232      0.039510     0.043137\n",
      "10          5.0   Yeni tikili    0.123101      0.101961     0.088235\n",
      "11          6.0  Köhnə tikili    0.122573      0.098039     0.053922\n",
      "12          6.0   Yeni tikili    0.165133      0.147059     0.196078\n",
      "13          7.0  Köhnə tikili    0.151299      0.122549     0.032353\n",
      "14          7.0   Yeni tikili    0.204075      0.172549     0.067059\n",
      "15          8.0  Köhnə tikili    0.227055      0.176471     0.147039\n",
      "16          8.0   Yeni tikili    0.328596      0.250980     0.109804\n",
      "17          9.0   Yeni tikili    0.280719      0.234314     0.156863\n",
      "18         10.0  Köhnə tikili    0.529412      0.529412     0.529412\n",
      "19         10.0   Yeni tikili    0.361503      0.313725     0.488235\n",
      "20         11.0   Yeni tikili    0.389020      0.389020     0.333333\n",
      "21         12.0  Köhnə tikili    0.392157      0.392157     0.392157\n",
      "22         14.0   Yeni tikili    0.205882      0.205882     0.205882\n",
      "23         15.0   Yeni tikili    0.625613      0.588235     0.588235\n"
     ]
    }
   ],
   "source": [
    "# Tambahkan kolom baru 'building_type' berdasarkan kondisi kolom boolean\n",
    "df['building_type'] = df.apply(lambda row: 'Köhnə tikili' if row['category_Köhnə tikili'] else ('Yeni tikili' if row['category_Yeni tikili'] else 'Unknown'), axis=1)\n",
    "\n",
    "# Sekarang Anda dapat melakukan agregasi data menggunakan kolom 'building_type'\n",
    "aggregated_data = df.groupby(['room_number', 'building_type']).agg({\n",
    "    'price': ['mean', 'median', lambda x: x.mode().iloc[0] if not x.empty else float('nan')]\n",
    "}).reset_index()\n",
    "\n",
    "# Mengganti nama kolom hasil agregasi\n",
    "aggregated_data.columns = ['room_number', 'building_type', 'mean_price', 'median_price', 'modus_price']\n",
    "\n",
    "# Tampilkan data agregasi\n",
    "print(aggregated_data)"
   ]
  },
  {
   "cell_type": "code",
   "execution_count": 150,
   "metadata": {},
   "outputs": [
    {
     "name": "stdout",
     "output_type": "stream",
     "text": [
      "Index(['price', 'currency', 'price_1m2', 'title', 'address', 'floor', 'area', 'url', 'room_number',\n",
      "       'category_0', 'category_Köhnə tikili', 'category_Yeni tikili', 'title_deed_0',\n",
      "       'title_deed_var', 'title_deed_yoxdur', 'repair_0', 'repair_var', 'repair_yoxdur',\n",
      "       'mortgage_0', 'mortgage_var', 'building_type'],\n",
      "      dtype='object')\n"
     ]
    }
   ],
   "source": [
    "\n",
    "# print(df.columns)\n"
   ]
  }
 ],
 "metadata": {
  "kernelspec": {
   "display_name": "Python 3",
   "language": "python",
   "name": "python3"
  },
  "language_info": {
   "codemirror_mode": {
    "name": "ipython",
    "version": 3
   },
   "file_extension": ".py",
   "mimetype": "text/x-python",
   "name": "python",
   "nbconvert_exporter": "python",
   "pygments_lexer": "ipython3",
   "version": "3.12.2"
  }
 },
 "nbformat": 4,
 "nbformat_minor": 2
}
