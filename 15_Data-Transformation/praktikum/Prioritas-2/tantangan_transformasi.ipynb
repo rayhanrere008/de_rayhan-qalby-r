{
 "cells": [
  {
   "cell_type": "markdown",
   "metadata": {},
   "source": [
    "### 1. Import Library"
   ]
  },
  {
   "cell_type": "code",
   "execution_count": 1,
   "metadata": {},
   "outputs": [],
   "source": [
    "import pandas as pd\n",
    "import numpy as np"
   ]
  },
  {
   "cell_type": "markdown",
   "metadata": {},
   "source": [
    "### 2. Load Data"
   ]
  },
  {
   "cell_type": "code",
   "execution_count": 2,
   "metadata": {},
   "outputs": [],
   "source": [
    "df = pd.read_csv('house_listings.csv')"
   ]
  },
  {
   "cell_type": "markdown",
   "metadata": {},
   "source": [
    "### 3. Imputasi Nilai"
   ]
  },
  {
   "cell_type": "code",
   "execution_count": 3,
   "metadata": {},
   "outputs": [],
   "source": [
    "# Mengelola nilai yang hilang (missing values) pada kolom 'area' dan 'floor'\n",
    "# Menghapus satuan 'm²' pada kolom 'area'\n",
    "df['area'] = df['area'].str.replace(' m²', '').astype(float)\n",
    "\n",
    "# Memisahkan angka-angka pada kolom 'floor'\n",
    "df['floor'] = df['floor'].str.extract('([0-9]+)').astype(float)\n",
    "\n",
    "# Menghitung nilai rata-rata untuk mengisi nilai yang hilang\n",
    "mean_area = df['area'].mean()\n",
    "mean_floor = df['floor'].mean()\n",
    "\n",
    "# Mengisi nilai yang hilang pada 'area' dan 'floor' tanpa menggunakan inplace=True\n",
    "df['area'] = df['area'].fillna(mean_area)\n",
    "df['floor'] = df['floor'].fillna(mean_floor)"
   ]
  },
  {
   "cell_type": "markdown",
   "metadata": {},
   "source": [
    "### 4. Mengatasi Outlier"
   ]
  },
  {
   "cell_type": "code",
   "execution_count": 4,
   "metadata": {},
   "outputs": [],
   "source": [
    "# Menghapus spasi dan tanda koma dari nilai di dalam kolom 'price'\n",
    "df['price'] = df['price'].str.replace(' ', '').str.replace(',', '')\n",
    "\n",
    "# Konversi ke tipe data numerik\n",
    "try:\n",
    "    df['price'] = pd.to_numeric(df['price'])\n",
    "except ValueError as e:\n",
    "    print(\"Error:\", e)\n",
    "\n",
    "# Hapus baris dengan nilai NaN setelah konversi ke numerik\n",
    "df = df.dropna(subset=['price'])\n",
    "\n",
    "# Mengatasi outlier pada harga rumah menggunakan metode IQR\n",
    "Q1_price = df['price'].quantile(0.25)\n",
    "Q3_price = df['price'].quantile(0.75)\n",
    "IQR_price = Q3_price - Q1_price\n",
    "\n",
    "filter_outlier_price = (df['price'] >= Q1_price - 1.5 * IQR_price) & (df['price'] <= Q3_price + 1.5 * IQR_price)\n",
    "df = df.loc[filter_outlier_price]"
   ]
  },
  {
   "cell_type": "markdown",
   "metadata": {},
   "source": [
    "### 5. Integritas Data"
   ]
  },
  {
   "cell_type": "code",
   "execution_count": 5,
   "metadata": {},
   "outputs": [],
   "source": [
    "# Verifikasi dan validasi keakuratan data pada kolom 'address' dan 'url'\n",
    "if df['address'].isnull().sum() > 0:\n",
    "    print(\"Ada nilai yang hilang pada kolom 'address'\")\n",
    "\n",
    "if df['url'].isnull().sum() > 0:\n",
    "    print(\"Ada nilai yang hilang pada kolom 'url'\")\n",
    "\n",
    "# Validasi URL (misalkan URL harus dimulai dengan 'http' atau 'https')\n",
    "if not all(df['url'].apply(lambda x: str(x).startswith(('http', 'https')))):\n",
    "    print(\"Beberapa URL tidak valid\")"
   ]
  },
  {
   "cell_type": "markdown",
   "metadata": {},
   "source": [
    "### 6. Simpan dalam bentuk .csv"
   ]
  },
  {
   "cell_type": "code",
   "execution_count": 6,
   "metadata": {},
   "outputs": [
    {
     "name": "stdout",
     "output_type": "stream",
     "text": [
      "Data telah disimpan dalam file CSV.\n"
     ]
    }
   ],
   "source": [
    "# Simpan DataFrame ke dalam file CSV\n",
    "df.to_csv('house_listings_processed.csv', index=False)\n",
    "\n",
    "print(\"Data telah disimpan dalam file CSV.\")"
   ]
  }
 ],
 "metadata": {
  "kernelspec": {
   "display_name": "Python 3",
   "language": "python",
   "name": "python3"
  },
  "language_info": {
   "codemirror_mode": {
    "name": "ipython",
    "version": 3
   },
   "file_extension": ".py",
   "mimetype": "text/x-python",
   "name": "python",
   "nbconvert_exporter": "python",
   "pygments_lexer": "ipython3",
   "version": "3.12.2"
  }
 },
 "nbformat": 4,
 "nbformat_minor": 2
}
